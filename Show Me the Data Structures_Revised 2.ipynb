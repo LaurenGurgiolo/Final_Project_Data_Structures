{
 "cells": [
  {
   "attachments": {},
   "cell_type": "markdown",
   "metadata": {},
   "source": [
    "# Problem 1: LRU Cache"
   ]
  },
  {
   "cell_type": "code",
   "execution_count": 1,
   "metadata": {},
   "outputs": [],
   "source": [
    "class LRU_Cache(object):\n",
    "\n",
    "    def __init__(self, capacity):\n",
    "        self.capacity = capacity\n",
    "        self.catch = {}\n",
    "        \n",
    "    \n",
    "\n",
    "    def get(self, key = None):\n",
    "        ## Appends an x onto the value if called to keep track of use.\n",
    "        if key == None:\n",
    "            return print('Please enter a key.')\n",
    "        elif key in self.catch:\n",
    "            self.catch[key].append('x')\n",
    "            return self.catch[key][0]\n",
    "        else:\n",
    "            return -1\n",
    "\n",
    "    def sets(self, key, value):\n",
    "        ## If catch over capacity, function deletes least used key.\n",
    "        if self.get(key) == -1:\n",
    "            if len(self.catch) < self.capacity:\n",
    "                self.catch[key] = [value]\n",
    "            else:\n",
    "                deletekey = self.least()\n",
    "                self.delete(deletekey)\n",
    "                self.catch[key] = [value]\n",
    "                \n",
    "    def least(self):\n",
    "        ## Finds least used key.\n",
    "        last_low = 10\n",
    "        low1 = 0\n",
    "        for key in self.catch.keys():\n",
    "            next_low = len(self.catch[key])\n",
    "            if 'x' not in self.catch[key]:\n",
    "                return key\n",
    "            if next_low < last_low:\n",
    "                low = key\n",
    "            else: \n",
    "                low = low1\n",
    "            last_low = len(self.catch[key])\n",
    "            low1 = key\n",
    "        return low \n",
    "                \n",
    "           \n",
    "    def delete(self, key):\n",
    "        del self.catch[key]\n",
    "        return  self.catch\n",
    "                    \n",
    "\n"
   ]
  },
  {
   "cell_type": "code",
   "execution_count": 2,
   "metadata": {
    "scrolled": true
   },
   "outputs": [],
   "source": [
    "our_cache = LRU_Cache(5)\n",
    "\n",
    "our_cache.sets(1, 1);\n",
    "our_cache.sets(2, 2);\n",
    "our_cache.sets(3, 3);\n",
    "our_cache.sets(4, 4);"
   ]
  },
  {
   "cell_type": "code",
   "execution_count": 3,
   "metadata": {},
   "outputs": [
    {
     "data": {
      "text/plain": [
       "1"
      ]
     },
     "execution_count": 3,
     "metadata": {},
     "output_type": "execute_result"
    }
   ],
   "source": [
    "our_cache.get(1)       # returns 1\n"
   ]
  },
  {
   "cell_type": "code",
   "execution_count": 4,
   "metadata": {},
   "outputs": [
    {
     "data": {
      "text/plain": [
       "2"
      ]
     },
     "execution_count": 4,
     "metadata": {},
     "output_type": "execute_result"
    }
   ],
   "source": [
    "our_cache.get(2)       # returns 2\n"
   ]
  },
  {
   "cell_type": "code",
   "execution_count": 5,
   "metadata": {},
   "outputs": [
    {
     "data": {
      "text/plain": [
       "-1"
      ]
     },
     "execution_count": 5,
     "metadata": {},
     "output_type": "execute_result"
    }
   ],
   "source": [
    "our_cache.get(9)      # returns -1 because 9 is not present in the cache\n",
    "\n"
   ]
  },
  {
   "cell_type": "code",
   "execution_count": 6,
   "metadata": {},
   "outputs": [],
   "source": [
    "our_cache.sets(5, 5) \n",
    "our_cache.sets(6, 6)\n",
    "\n"
   ]
  },
  {
   "cell_type": "code",
   "execution_count": 7,
   "metadata": {},
   "outputs": [
    {
     "data": {
      "text/plain": [
       "-1"
      ]
     },
     "execution_count": 7,
     "metadata": {},
     "output_type": "execute_result"
    }
   ],
   "source": [
    "our_cache.get(3)      # returns -1 because the cache reached it's capacity and 3 was the least recently used entry\n",
    "\n"
   ]
  },
  {
   "cell_type": "code",
   "execution_count": 8,
   "metadata": {},
   "outputs": [
    {
     "data": {
      "text/plain": [
       "5"
      ]
     },
     "execution_count": 8,
     "metadata": {},
     "output_type": "execute_result"
    }
   ],
   "source": [
    "## Add your own test cases: include at least three test cases\n",
    "## and two of them must include edge cases, such as null, empty or very large values\n",
    "\n",
    "## Test Case 1\n",
    "cache = LRU_Cache(5)\n",
    "\n",
    "cache.sets(1, 5);\n",
    "cache.sets(2, 9);\n",
    "cache.sets(3, 7);\n",
    "cache.sets(4, 4);\n",
    "\n",
    "cache.get(1) \n",
    "## Returns the value 5."
   ]
  },
  {
   "cell_type": "code",
   "execution_count": 9,
   "metadata": {},
   "outputs": [
    {
     "data": {
      "text/plain": [
       "7"
      ]
     },
     "execution_count": 9,
     "metadata": {},
     "output_type": "execute_result"
    }
   ],
   "source": [
    "cache.get(3) \n",
    "## Returns the value 7."
   ]
  },
  {
   "cell_type": "code",
   "execution_count": 10,
   "metadata": {},
   "outputs": [
    {
     "data": {
      "text/plain": [
       "5"
      ]
     },
     "execution_count": 10,
     "metadata": {},
     "output_type": "execute_result"
    }
   ],
   "source": [
    "cache.get(1) \n",
    "## Returns the value 5 for the second time."
   ]
  },
  {
   "cell_type": "code",
   "execution_count": 11,
   "metadata": {},
   "outputs": [
    {
     "data": {
      "text/plain": [
       "9"
      ]
     },
     "execution_count": 11,
     "metadata": {},
     "output_type": "execute_result"
    }
   ],
   "source": [
    "cache.get(2) \n",
    "## Returns the value 9."
   ]
  },
  {
   "cell_type": "code",
   "execution_count": 12,
   "metadata": {},
   "outputs": [
    {
     "data": {
      "text/plain": [
       "4"
      ]
     },
     "execution_count": 12,
     "metadata": {},
     "output_type": "execute_result"
    }
   ],
   "source": [
    "cache.get(4) \n",
    "## Returns the value 4."
   ]
  },
  {
   "cell_type": "code",
   "execution_count": 13,
   "metadata": {},
   "outputs": [
    {
     "data": {
      "text/plain": [
       "7"
      ]
     },
     "execution_count": 13,
     "metadata": {},
     "output_type": "execute_result"
    }
   ],
   "source": [
    "cache.get(3) \n",
    "## Returns the value 7 for the second time."
   ]
  },
  {
   "cell_type": "code",
   "execution_count": 14,
   "metadata": {},
   "outputs": [
    {
     "data": {
      "text/plain": [
       "4"
      ]
     },
     "execution_count": 14,
     "metadata": {},
     "output_type": "execute_result"
    }
   ],
   "source": [
    "cache.get(4) \n",
    "## Returns the value 4 for the second time."
   ]
  },
  {
   "cell_type": "code",
   "execution_count": 15,
   "metadata": {},
   "outputs": [
    {
     "data": {
      "text/plain": [
       "9"
      ]
     },
     "execution_count": 15,
     "metadata": {},
     "output_type": "execute_result"
    }
   ],
   "source": [
    "## Test Case 2\n",
    "cache.sets(5, 11);\n",
    "cache.sets(6, 4);\n",
    "\n",
    "cache.get(2) \n",
    "## Returns the value 9 and replaces key 5 with 6. "
   ]
  },
  {
   "cell_type": "code",
   "execution_count": 16,
   "metadata": {},
   "outputs": [
    {
     "data": {
      "text/plain": [
       "-1"
      ]
     },
     "execution_count": 16,
     "metadata": {},
     "output_type": "execute_result"
    }
   ],
   "source": [
    "cache.get(5) \n",
    "## Returns -1 because key 5 was deleted."
   ]
  },
  {
   "cell_type": "code",
   "execution_count": 17,
   "metadata": {},
   "outputs": [],
   "source": [
    "## Test Case 3"
   ]
  },
  {
   "cell_type": "code",
   "execution_count": 18,
   "metadata": {},
   "outputs": [
    {
     "data": {
      "text/plain": [
       "4"
      ]
     },
     "execution_count": 18,
     "metadata": {},
     "output_type": "execute_result"
    }
   ],
   "source": [
    "cache.sets(4, 11);\n",
    "cache.sets(7, 4);\n",
    "\n",
    "cache.get(4) \n",
    "## Returns 4 because key 4 already exists."
   ]
  },
  {
   "cell_type": "code",
   "execution_count": 19,
   "metadata": {},
   "outputs": [
    {
     "data": {
      "text/plain": [
       "-1"
      ]
     },
     "execution_count": 19,
     "metadata": {},
     "output_type": "execute_result"
    }
   ],
   "source": [
    "cache.get(5) \n",
    "## Returns -1 because key 5 was deleted."
   ]
  },
  {
   "cell_type": "code",
   "execution_count": 20,
   "metadata": {},
   "outputs": [
    {
     "data": {
      "text/plain": [
       "-1"
      ]
     },
     "execution_count": 20,
     "metadata": {},
     "output_type": "execute_result"
    }
   ],
   "source": [
    "cache.get(6) \n",
    "## Returns -1 because key 6 was deleted."
   ]
  },
  {
   "cell_type": "code",
   "execution_count": 21,
   "metadata": {},
   "outputs": [
    {
     "name": "stdout",
     "output_type": "stream",
     "text": [
      "Please enter a key.\n"
     ]
    }
   ],
   "source": [
    "cache.get() \n",
    "## Returns an error message."
   ]
  },
  {
   "cell_type": "code",
   "execution_count": 22,
   "metadata": {},
   "outputs": [
    {
     "data": {
      "text/plain": [
       "-1"
      ]
     },
     "execution_count": 22,
     "metadata": {},
     "output_type": "execute_result"
    }
   ],
   "source": [
    "cache.get(-6) \n",
    "## Returns -1."
   ]
  },
  {
   "attachments": {},
   "cell_type": "markdown",
   "metadata": {},
   "source": [
    "## Explanation 1:\n",
    " ### Time Efficiency and Space Efficiency:\n",
    " This program has linear time complexity because there is one loop in the program \n",
    " making N the max length of keys in the cache. The time efficiency is O(N). All the other algorithms have a time complexity of O(1),making O(N) the more complex time complexity.\n",
    " \n",
    "### Data Structure:\n",
    " I used a dictonary to make use of both the key and value elements and as it is very easy \n",
    " to return values.\n",
    " \n",
    "### Function Efficiency:\n",
    " To keep track of key use I added an x to the values of the key and compared the len() \n",
    " of the values to find the least used one. If multiple elements have no prior uses\n",
    " the oldest key is deleted."
   ]
  },
  {
   "attachments": {},
   "cell_type": "markdown",
   "metadata": {},
   "source": [
    "# Problem 2: File Recursion"
   ]
  },
  {
   "cell_type": "code",
   "execution_count": 16,
   "metadata": {},
   "outputs": [
    {
     "name": "stdout",
     "output_type": "stream",
     "text": [
      "/Users/laurengurgiolo/Documents/GitHub/Final_Project_Data_Structures\n"
     ]
    }
   ],
   "source": [
    "##To run this program please download the test.dir file to your working directory.\n",
    "\n",
    "import os\n",
    "print(os.getcwd())\n",
    "def find_files(suffix, path):\n",
    "    ## This function uses recursion to search folders within folders.\n",
    "    if path == None:\n",
    "        return None\n",
    "    \n",
    "    list_files = os.listdir(path)\n",
    "    final_paths = list()\n",
    "    files = list()\n",
    "    count = 0\n",
    "    \n",
    "    for item in list_files:\n",
    "        address = os.path.join(path, item)\n",
    "        if suffix in item:\n",
    "            final_paths.append(address)\n",
    "            count += 1\n",
    "        elif os.path.isdir(address):\n",
    "            files = find_files(suffix, address)\n",
    "            for x in files:\n",
    "                final_paths.append(x)\n",
    "                count += 1\n",
    "            if count == 0:\n",
    "                return print(' Invalid Input Path - No files found for the given extension.')\n",
    "    \n",
    "    return final_paths\n",
    "         \n",
    "\n"
   ]
  },
  {
   "cell_type": "code",
   "execution_count": 17,
   "metadata": {},
   "outputs": [
    {
     "name": "stdout",
     "output_type": "stream",
     "text": [
      " Invalid Input Path - No files found for the given extension.\n"
     ]
    }
   ],
   "source": [
    "## Test Case 1\n",
    "find_files('.c', './testdir')\n",
    "## There should be 4 files with .c in the name. "
   ]
  },
  {
   "cell_type": "code",
   "execution_count": 18,
   "metadata": {},
   "outputs": [
    {
     "name": "stdout",
     "output_type": "stream",
     "text": [
      " Invalid Input Path - No files found for the given extension.\n"
     ]
    }
   ],
   "source": [
    "## Test Case 2\n",
    "find_files('abcdegtf', './testdir')\n",
    "\n",
    "## There should be 0 files with the above in the name. "
   ]
  },
  {
   "cell_type": "code",
   "execution_count": 19,
   "metadata": {},
   "outputs": [
    {
     "name": "stdout",
     "output_type": "stream",
     "text": [
      " Invalid Input Path - No files found for the given extension.\n"
     ]
    }
   ],
   "source": [
    "## Test Case 3\n",
    "find_files('.h', './testdir')\n",
    "## There should be 4 files with .h in the name. "
   ]
  },
  {
   "attachments": {},
   "cell_type": "markdown",
   "metadata": {},
   "source": [
    "# Explanation 2:\n",
    "### Time Efficiency and Space Efficiency:\n",
    " This program has linear time complexity because efficiency is related to the input size\n",
    " (N) (ie. the number of files and folders needed to search through).  The dominant term in the time complexity equation is O(n). This means that the function takes linear time to compute the find files function.\n",
    " \n",
    "### Data Structure:\n",
    " I used lists as it was easy to loop through and search.\n",
    " \n",
    "### Function Efficiency:\n",
    " I used a recursive function to search folders with in folders, making the code more simple\n",
    " and efficient."
   ]
  },
  {
   "attachments": {},
   "cell_type": "markdown",
   "metadata": {},
   "source": [
    "# Problem 3: Huffman Coding"
   ]
  },
  {
   "cell_type": "code",
   "execution_count": 20,
   "metadata": {},
   "outputs": [],
   "source": [
    "import sys\n",
    "\n",
    "class Node(object):\n",
    "    def __init__(self,value = None):\n",
    "        self.value = value\n",
    "        self.freq = 0\n",
    "        self.right = None\n",
    "        self.left = None\n",
    "        self.visit = 0\n",
    "        self.visit_left = 0\n",
    "        self.visit_right = 0\n",
    "        \n",
    "        \n",
    "    def set_value(self,value):\n",
    "        self.value = value\n",
    "        \n",
    "    def get_value(self):\n",
    "        return  self.value\n",
    "    \n",
    "    def set_left(self,value):\n",
    "        self.left = value\n",
    "        \n",
    "    def set_right(self,value):\n",
    "        self.right = value\n",
    "        \n",
    "    def get_left(self):\n",
    "        return  self.left\n",
    "    \n",
    "    def get_right(self):\n",
    "        return  self.right\n",
    "    \n",
    "    def have_left(self):\n",
    "        return self.left != None\n",
    "        \n",
    "    def have_left(self):\n",
    "        return self.left != None\n",
    "        \n",
    "    def have_right(self):\n",
    "        return self.right != None\n",
    "    \n",
    "    def set_freq(self):\n",
    "        self.freq += 1\n",
    "        \n",
    "    def set_new_freq(self, value):\n",
    "        self.freq = value\n",
    "        \n",
    "    def get_freq(self):\n",
    "        return self.freq \n",
    "    \n",
    "    def set_visit(self):\n",
    "        self.visit = 1\n",
    "        \n",
    "    def set_visit_left(self):\n",
    "        self.visit_left = 1\n",
    "        \n",
    "    def set_visit_right(self):\n",
    "        self.visit_right = 1\n",
    "        \n",
    "    def visited_left(self):\n",
    "        return self.visit_left != 0\n",
    "    \n",
    "    def visited_right(self):\n",
    "        return self.visit_right != 0\n",
    "    \n",
    "    def visited(self):\n",
    "        return self.visit != 0\n",
    "    \n"
   ]
  },
  {
   "cell_type": "code",
   "execution_count": 21,
   "metadata": {},
   "outputs": [],
   "source": [
    " def huffman_encoding(data):\n",
    "    node_list = list()\n",
    "    node_list_value = list()\n",
    "    ordered_list = list()\n",
    "    \n",
    "    if data == \"\":\n",
    "        print('No data to encode!')\n",
    "        root = None\n",
    "        data = None\n",
    "        codes = get_code(root, root, code = \"\") \n",
    "        encoded_data = get_encrypt(codes, data)\n",
    "        return encoded_data,None,None\n",
    "    \n",
    "    ## Gets the encoded data for characters used.\n",
    "    if data == None:\n",
    "        print('No data to encode!')\n",
    "        root = None\n",
    "        codes = get_code(root, root, code = \"\") \n",
    "        encoded_data = get_encrypt(codes, data)\n",
    "        return encoded_data,None,None\n",
    "    \n",
    "    ## Finds the frequency of characters.\n",
    "    for char in data:\n",
    "        if char in node_list_value:\n",
    "            for node in node_list:\n",
    "                if node.value == char:\n",
    "                    node.set_freq()\n",
    "        else:\n",
    "            node = Node(char)\n",
    "            node_list.append(node)\n",
    "            node_list_value.append(node.value)\n",
    "            node.set_freq()\n",
    "            \n",
    "    low_node = None\n",
    "    \n",
    "    ## Orders the character frenquency.\n",
    "    while node_list:\n",
    "        curr_low = node_list[0]\n",
    "        for node in node_list:\n",
    "            if node.get_freq() < curr_low.get_freq():\n",
    "                curr_low = node\n",
    "            else:\n",
    "                curr_low =  curr_low\n",
    "                \n",
    "        ordered_list.append(curr_low)\n",
    "        node_list.remove(curr_low)\n",
    "        \n",
    "    if len(ordered_list) == 1:\n",
    "        root = Node(1)\n",
    "        root.set_left(ordered_list.pop(0))\n",
    "        ordered_list.insert(0, root) \n",
    "        \n",
    "    ## Makes a tree from the ordered list.    \n",
    "    while len(ordered_list) != 1:\n",
    "        freq1 = ordered_list[0].get_freq()\n",
    "        freq2 = ordered_list[1].get_freq()\n",
    "        new_node = freq1 + freq2\n",
    "        root = Node(new_node)\n",
    "        \n",
    "        if freq1 < freq2:\n",
    "            root.set_left(ordered_list.pop(0))\n",
    "            root.set_right(ordered_list.pop(1))\n",
    "        else:\n",
    "            root.set_left(ordered_list.pop(1))\n",
    "            root.set_right(ordered_list.pop(0))\n",
    "            \n",
    "        ordered_list.insert(0, root) \n",
    "        root.set_new_freq(root.value)\n",
    "        \n",
    "    codes = get_code(root, root, code = \"\") \n",
    "    encoded_data = get_encrypt(codes, data)\n",
    "    tree = root\n",
    "    \n",
    "    return encoded_data, tree, root\n",
    "        \n",
    "    \n",
    "def get_code(node, root, code = \"\"):\n",
    "    ## Uses the tree to make character codes. \n",
    "    if root == None:\n",
    "        return None\n",
    "    \n",
    "    final_codes = dict()\n",
    "    code = code\n",
    "    \n",
    "    while not node.visited():\n",
    "        if node.have_left() and not node.get_left().visited():\n",
    "            code += '0'\n",
    "            node = node.get_left()\n",
    "            get_code(node, root, code)\n",
    "            \n",
    "        elif node.have_right() and not node.get_right().visited():\n",
    "            \n",
    "            code += '1'\n",
    "            get_code(node.get_right(), root, code)\n",
    "        \n",
    "        elif node == root:\n",
    "            break\n",
    "\n",
    "        elif not node.have_right() and not node.have_left(): \n",
    "            codes[node.value] = code\n",
    "            code = \"\"\n",
    "            node.set_visit()\n",
    "            get_code(root, root, code)\n",
    "        else:\n",
    "            node.set_visit()\n",
    "            code = \"\"\n",
    "            get_code(root, root, code)\n",
    "            \n",
    "    for key in codes.keys():\n",
    "        if key not in final_codes.keys():\n",
    "            final_codes[key] = codes[key]\n",
    "\n",
    "    \n",
    "    return final_codes\n",
    "    \n",
    "def get_encrypt(codes, data):\n",
    "    ## Turns a sentence into code.\n",
    "    encrypted = \"\"\n",
    "    \n",
    "    if data == None:\n",
    "        encrypted = \"-1\"\n",
    "        return encrypted \n",
    "    \n",
    "    encrypted = \"\"\n",
    "    for char in data:\n",
    "        nums = codes.get(char)\n",
    "        encrypted += nums\n",
    "        \n",
    "    return encrypted\n",
    "    \n",
    "\n"
   ]
  },
  {
   "cell_type": "code",
   "execution_count": 22,
   "metadata": {
    "scrolled": false
   },
   "outputs": [],
   "source": [
    "def huffman_decoding(data, tree, root, decoded_data = list(), x = 0):\n",
    "    ## Decodes the code back to a sentence using the tree.\n",
    "    \n",
    "    sentence = \"\"\n",
    "    if x == 0 and len(decoded_data)!= 0:\n",
    "        clear(sentence, decoded_data)\n",
    "    \n",
    "    if len(data) == 0:\n",
    "        return decoded_data\n",
    "    \n",
    "    if tree == None:\n",
    "        sentence = None\n",
    "        return sentence\n",
    "    \n",
    "    ## Using recursive functions to iterate through tree.   \n",
    "    num = data[0]\n",
    "    if not tree.have_left() or not tree.have_right:\n",
    "        decoded_data += tree.value\n",
    "        x += 1\n",
    "        huffman_decoding(data,root, root,decoded_data, x)\n",
    "\n",
    "    if num == '0':\n",
    "        if tree.have_left:\n",
    "            node = tree.get_left()\n",
    "            if node == None:\n",
    "                return decoded_data\n",
    "            data = data[1:]\n",
    "\n",
    "            if not node.have_left() or not node.have_right:\n",
    "                decoded_data += node.value\n",
    "                x += 1\n",
    "                huffman_decoding(data,root, root,decoded_data, x)\n",
    "\n",
    "            elif node.have_left() or node.have_right:\n",
    "                x += 1\n",
    "                huffman_decoding(data,node, root,decoded_data, x)\n",
    "\n",
    "    if num == '1':\n",
    "        if tree.have_right:\n",
    "            node = tree.get_right()\n",
    "            if node == None:\n",
    "                return decoded_data\n",
    "            data = data[1:]\n",
    "\n",
    "            if node.have_left() or node.have_right:\n",
    "                x += 1\n",
    "                huffman_decoding(data,node, root,decoded_data, x)\n",
    "\n",
    "            elif not node.have_left() or not node.have_right:\n",
    "                decoded_data += node.value\n",
    "                x += 1\n",
    "                huffman_decoding(data,root, root,decoded_data, x)\n",
    "                \n",
    "    sentence = \"\".join(decoded_data)\n",
    "    \n",
    "    return sentence\n",
    "\n",
    "def clear(sentence, decoded_data):\n",
    "    decoded_data.clear()\n",
    "    sentence = \"\"\n",
    "    return sentence, decoded_data\n"
   ]
  },
  {
   "cell_type": "code",
   "execution_count": 23,
   "metadata": {},
   "outputs": [
    {
     "name": "stdout",
     "output_type": "stream",
     "text": [
      "The size of the data is: 69\n",
      "\n",
      "The content of the data is: The bird is the word\n",
      "\n",
      "The size of the encoded data is: 40\n",
      "\n",
      "The content of the encoded data is: 1111111111111111011110011111111110111011010011101111111110011111111011111011110011111110111111011010\n",
      "\n",
      "The size of the decoded data is: 69\n",
      "\n",
      "The content of the encoded data is: The bird is the word\n",
      "\n"
     ]
    }
   ],
   "source": [
    "if __name__ == \"__main__\":\n",
    "    codes = {}\n",
    "\n",
    "    a_great_sentence = \"The bird is the word\"\n",
    "\n",
    "    print (\"The size of the data is: {}\\n\".format(sys.getsizeof(a_great_sentence)))\n",
    "    print (\"The content of the data is: {}\\n\".format(a_great_sentence))\n",
    "\n",
    "    encoded_data, tree, root = huffman_encoding(a_great_sentence)\n",
    "\n",
    "    print (\"The size of the encoded data is: {}\\n\".format(sys.getsizeof(int(encoded_data, base=2))))\n",
    "    print (\"The content of the encoded data is: {}\\n\".format(encoded_data))\n",
    "\n",
    "    decoded_data = huffman_decoding(encoded_data, tree, root)\n",
    "\n",
    "    print (\"The size of the decoded data is: {}\\n\".format(sys.getsizeof(decoded_data)))\n",
    "    print (\"The content of the encoded data is: {}\\n\".format(decoded_data))\n"
   ]
  },
  {
   "cell_type": "code",
   "execution_count": 24,
   "metadata": {},
   "outputs": [
    {
     "name": "stdout",
     "output_type": "stream",
     "text": [
      "The size of the data is: 16\n",
      "\n",
      "The content of the data is: None\n",
      "\n",
      "No data to encode!\n",
      "The size of the encoded data is: 28\n",
      "\n",
      "The content of the encoded data is: -1\n",
      "\n",
      "The size of the decoded data is: 16\n",
      "\n",
      "The content of the encoded data is: None\n",
      "\n"
     ]
    }
   ],
   "source": [
    "## Add your own test cases: include at least three test cases\n",
    "## and two of them must include edge cases, such as null, empty or very large values\n",
    "\n",
    "## Test Case 1\n",
    "if __name__ == \"__main__\":\n",
    "    codes = {}\n",
    "\n",
    "    a_great_sentence = None\n",
    "\n",
    "    print (\"The size of the data is: {}\\n\".format(sys.getsizeof(a_great_sentence)))\n",
    "    print (\"The content of the data is: {}\\n\".format(a_great_sentence))\n",
    "\n",
    "    encoded_data, tree, root = huffman_encoding(a_great_sentence)\n",
    "\n",
    "    print (\"The size of the encoded data is: {}\\n\".format(sys.getsizeof(int(encoded_data, base=2))))\n",
    "    print (\"The content of the encoded data is: {}\\n\".format(encoded_data))\n",
    "\n",
    "    decoded_data = huffman_decoding(encoded_data, tree, root)\n",
    "\n",
    "    print (\"The size of the decoded data is: {}\\n\".format(sys.getsizeof(decoded_data)))\n",
    "    print (\"The content of the encoded data is: {}\\n\".format(decoded_data))\n",
    "\n",
    "## The content of None should be None, with encoded data as -1, but not raise any errors."
   ]
  },
  {
   "cell_type": "code",
   "execution_count": 25,
   "metadata": {},
   "outputs": [
    {
     "name": "stdout",
     "output_type": "stream",
     "text": [
      "The size of the data is: 70\n",
      "\n",
      "The content of the data is: Today is a great day.\n",
      "\n",
      "The size of the encoded data is: 40\n",
      "\n",
      "The content of the encoded data is: 1111111111111111111111101110101100111111111101111111110010011111111011111110111111010111110011101011011110\n",
      "\n",
      "The size of the decoded data is: 70\n",
      "\n",
      "The content of the encoded data is: Today is a great day.\n",
      "\n"
     ]
    }
   ],
   "source": [
    "\n",
    "## Test Case 2\n",
    "if __name__ == \"__main__\":\n",
    "    codes = {}\n",
    "\n",
    "    a_great_sentence = \"Today is a great day.\"\n",
    "\n",
    "    print (\"The size of the data is: {}\\n\".format(sys.getsizeof(a_great_sentence)))\n",
    "    print (\"The content of the data is: {}\\n\".format(a_great_sentence))\n",
    "\n",
    "    encoded_data, tree, root = huffman_encoding(a_great_sentence)\n",
    "\n",
    "    print (\"The size of the encoded data is: {}\\n\".format(sys.getsizeof(int(encoded_data, base=2))))\n",
    "    print (\"The content of the encoded data is: {}\\n\".format(encoded_data))\n",
    "\n",
    "    decoded_data = huffman_decoding(encoded_data, tree, root)\n",
    "\n",
    "    print (\"The size of the decoded data is: {}\\n\".format(sys.getsizeof(decoded_data)))\n",
    "    print (\"The content of the encoded data is: {}\\n\".format(decoded_data))\n",
    "    \n",
    "## The size of the data should match the size of the decoded data."
   ]
  },
  {
   "cell_type": "code",
   "execution_count": 26,
   "metadata": {},
   "outputs": [
    {
     "name": "stdout",
     "output_type": "stream",
     "text": [
      "The size of the data is: 232\n",
      "\n",
      "The content of the data is: Never be afraid to raise your voice for honesty and truth and compassion against injustice and lying and greed. If people all over the world...would do this it would change the earth.\n",
      "\n",
      "The size of the encoded data is: 212\n",
      "\n",
      "The content of the encoded data is: 11111111111111111111111111011111111111111111111010111111110011111111111111111111111101001110111111111111111111101111111101110111111101111110011110110011111111011101111111011111111111010011111111111111111101101111111111111011111111001111111111111111111101101111111011111111111111101001111111111111111111011011111111001111111111011011111010111111111110111101111111111111111110011101111101111110011110111111110111111111111101111011111111110011101111101111110011111111111111101101111111111111111111111101111111111111111101110111111111110111111111110111111101101111100111011111111111111011101111111011111011111111111011110011111110111110111111111111111111111101111111111111011111111111011110111111101111111111111110100111011111011111100111111111011111111111111111101111111011111011111111111111001110111110111111001111111111111101111111101010111111011111111111100111111111111111111111011111111111111111110011111111111111111010110111111111111111110111111111010011101111111110111111111001101111111111111111111101011111111001111011111111110100111111111111111101101111111101111111110111111011111111111101111111111110111111111111011111111111111110110111111111111101111111110111111001111110110011110111111111101111111011111111111001111111011110011111111111111110110111111111111101111111110111111001111111111111110111111111101110111110111111111111110100111101111111111010010111011111111011110111111111101111111111110\n",
      "\n",
      "The size of the decoded data is: 232\n",
      "\n",
      "The content of the encoded data is: Never be afraid to raise your voice for honesty and truth and compassion against injustice and lying and greed. If people all over the world...would do this it would change the earth.\n",
      "\n"
     ]
    }
   ],
   "source": [
    "if __name__ == \"__main__\":\n",
    "    codes = {}\n",
    "\n",
    "    a_great_sentence = 'Never be afraid to raise your voice for honesty and truth and compassion against injustice and lying and greed. If people all over the world...would do this it would change the earth.'\n",
    "    print (\"The size of the data is: {}\\n\".format(sys.getsizeof(a_great_sentence)))\n",
    "    print (\"The content of the data is: {}\\n\".format(a_great_sentence))\n",
    "\n",
    "    encoded_data, tree, root = huffman_encoding(a_great_sentence)\n",
    "\n",
    "    print (\"The size of the encoded data is: {}\\n\".format(sys.getsizeof(int(encoded_data, base=2))))\n",
    "    print (\"The content of the encoded data is: {}\\n\".format(encoded_data))\n",
    "\n",
    "    decoded_data = huffman_decoding(encoded_data, tree, root)\n",
    "\n",
    "    print (\"The size of the decoded data is: {}\\n\".format(sys.getsizeof(decoded_data)))\n",
    "    print (\"The content of the encoded data is: {}\\n\".format(decoded_data))\n",
    "## The sentence after decoding should be the same as the original."
   ]
  },
  {
   "cell_type": "code",
   "execution_count": 27,
   "metadata": {},
   "outputs": [
    {
     "name": "stdout",
     "output_type": "stream",
     "text": [
      "The size of the data is: 59\n",
      "\n",
      "The content of the data is: AAAAAAAAAA\n",
      "\n",
      "The size of the encoded data is: 28\n",
      "\n",
      "The content of the encoded data is: 0000000000\n",
      "\n",
      "The size of the decoded data is: 59\n",
      "\n",
      "The content of the encoded data is: AAAAAAAAAA\n",
      "\n"
     ]
    }
   ],
   "source": [
    "if __name__ == \"__main__\":\n",
    "    codes = {}\n",
    "\n",
    "    a_great_sentence = \"AAAAAAAAAA\"\n",
    "\n",
    "    print (\"The size of the data is: {}\\n\".format(sys.getsizeof(a_great_sentence)))\n",
    "    print (\"The content of the data is: {}\\n\".format(a_great_sentence))\n",
    "\n",
    "    encoded_data, tree, root = huffman_encoding(a_great_sentence)\n",
    "\n",
    "    print (\"The size of the encoded data is: {}\\n\".format(sys.getsizeof(int(encoded_data, base=2))))\n",
    "    print (\"The content of the encoded data is: {}\\n\".format(encoded_data))\n",
    "\n",
    "    decoded_data = huffman_decoding(encoded_data, tree, root)\n",
    "\n",
    "    print (\"The size of the decoded data is: {}\\n\".format(sys.getsizeof(decoded_data)))\n",
    "    print (\"The content of the encoded data is: {}\\n\".format(decoded_data))\n"
   ]
  },
  {
   "cell_type": "code",
   "execution_count": 28,
   "metadata": {},
   "outputs": [
    {
     "name": "stdout",
     "output_type": "stream",
     "text": [
      "The size of the data is: 49\n",
      "\n",
      "The content of the data is: \n",
      "\n",
      "No data to encode!\n",
      "The size of the encoded data is: 28\n",
      "\n",
      "The content of the encoded data is: -1\n",
      "\n",
      "The size of the decoded data is: 16\n",
      "\n",
      "The content of the encoded data is: None\n",
      "\n"
     ]
    }
   ],
   "source": [
    "if __name__ == \"__main__\":\n",
    "    codes = {}\n",
    "\n",
    "    a_great_sentence = \"\"\n",
    "\n",
    "    print (\"The size of the data is: {}\\n\".format(sys.getsizeof(a_great_sentence)))\n",
    "    print (\"The content of the data is: {}\\n\".format(a_great_sentence))\n",
    "\n",
    "    encoded_data, tree, root = huffman_encoding(a_great_sentence)\n",
    "\n",
    "    print (\"The size of the encoded data is: {}\\n\".format(sys.getsizeof(int(encoded_data, base=2))))\n",
    "    print (\"The content of the encoded data is: {}\\n\".format(encoded_data))\n",
    "\n",
    "    decoded_data = huffman_decoding(encoded_data, tree, root)\n",
    "\n",
    "    print (\"The size of the decoded data is: {}\\n\".format(sys.getsizeof(decoded_data)))\n",
    "    print (\"The content of the encoded data is: {}\\n\".format(decoded_data))\n",
    "## Returns No data to encode!"
   ]
  },
  {
   "attachments": {},
   "cell_type": "markdown",
   "metadata": {},
   "source": [
    "# Explanation 3:\n",
    "### Time Efficiency and Space Efficiency:\n",
    " This program has logarithmic time complexity because it searches through a binary tree, reducing the number of inputs each time. The functions search more then once making the search (n) times, hence the total complexity is O(nlog(n)).\n",
    " \n",
    "### Data Structure:\n",
    " I used a binary tree as it was easy to iterate through and search for leaves.\n",
    " \n",
    "### Function Efficiency:\n",
    " The binary tree search for the coding and decoding because it reduces the size of \n",
    " the input data in each step, makeing the code more efficient.'''"
   ]
  },
  {
   "attachments": {},
   "cell_type": "markdown",
   "metadata": {},
   "source": [
    "# Problem 4: Active Directory"
   ]
  },
  {
   "cell_type": "code",
   "execution_count": 57,
   "metadata": {},
   "outputs": [],
   "source": [
    "class Group(object):\n",
    "    def __init__(self, _name):\n",
    "        self.name = _name\n",
    "        self.groups = []\n",
    "        self.users = []\n",
    "\n",
    "    def add_group(self, group):\n",
    "        self.groups.append(group)\n",
    "\n",
    "    def add_user(self, user):\n",
    "        self.users.append(user)\n",
    "\n",
    "    def get_groups(self):\n",
    "        return self.groups\n",
    "\n",
    "    def get_users(self):\n",
    "        return self.users\n",
    "\n",
    "    def get_name(self):\n",
    "        return self.name\n",
    "\n",
    "\n",
    "parent = Group(\"parent\")\n",
    "child = Group(\"child\")\n",
    "sub_child = Group(\"subchild\")\n",
    "\n",
    "sub_child_user = \"sub_child_user\"\n",
    "sub_child.add_user(sub_child_user)\n",
    "\n",
    "child.add_group(sub_child)\n",
    "parent.add_group(child)"
   ]
  },
  {
   "cell_type": "code",
   "execution_count": 58,
   "metadata": {},
   "outputs": [
    {
     "data": {
      "text/plain": [
       "True"
      ]
     },
     "execution_count": 58,
     "metadata": {},
     "output_type": "execute_result"
    }
   ],
   "source": [
    "def is_user_in_group(user, group):\n",
    "    ## Uses recursion to search through groups inside groups.\n",
    "    x = 0\n",
    "    if user == \"\" or user == None:\n",
    "        print('Please enter a user.')\n",
    "        return False\n",
    "    \n",
    "    if group == \"\" or group == None:\n",
    "        print('Please enter a group.')\n",
    "        return False\n",
    "    \n",
    "    if group.get_groups == None:\n",
    "        if user in group.users:\n",
    "            x = 1\n",
    "            return True\n",
    "        \n",
    "    elif len(group.groups) > 1:\n",
    "        for index,i in enumerate(group):\n",
    "            if i.get_groups!= None:\n",
    "                is_user_in_group(user, group.get_groups[index])\n",
    "            else:\n",
    "                if i == user:\n",
    "                    x = 1\n",
    "                    return True\n",
    "                \n",
    "                \n",
    "    elif user in group.users:\n",
    "        x = 1\n",
    "        return True\n",
    "    \n",
    "    elif user in group.groups:\n",
    "        x = 1\n",
    "        return True\n",
    "    \n",
    "    if x == 0:\n",
    "        return False\n",
    "\n",
    "\n",
    "## Add your own test cases: include at least three test cases\n",
    "## and two of them must include edge cases, such as null, empty or very large values\n",
    "\n",
    "## Test Case 1\n",
    "is_user_in_group( child , parent)\n",
    "\n",
    "## Returns True."
   ]
  },
  {
   "cell_type": "code",
   "execution_count": 59,
   "metadata": {},
   "outputs": [
    {
     "data": {
      "text/plain": [
       "True"
      ]
     },
     "execution_count": 59,
     "metadata": {},
     "output_type": "execute_result"
    }
   ],
   "source": [
    "## Test Case 2\n",
    "\n",
    "is_user_in_group(sub_child_user, sub_child)\n",
    "## Returns True."
   ]
  },
  {
   "cell_type": "code",
   "execution_count": 60,
   "metadata": {},
   "outputs": [
    {
     "data": {
      "text/plain": [
       "False"
      ]
     },
     "execution_count": 60,
     "metadata": {},
     "output_type": "execute_result"
    }
   ],
   "source": [
    "## Test Case 3\n",
    "is_user_in_group(parent , child)\n",
    "## Returns False."
   ]
  },
  {
   "cell_type": "code",
   "execution_count": 63,
   "metadata": {},
   "outputs": [
    {
     "name": "stdout",
     "output_type": "stream",
     "text": [
      "Please enter a user.\n"
     ]
    },
    {
     "data": {
      "text/plain": [
       "False"
      ]
     },
     "execution_count": 63,
     "metadata": {},
     "output_type": "execute_result"
    }
   ],
   "source": [
    "is_user_in_group(\"\" , child)\n",
    "## Returns error message."
   ]
  },
  {
   "cell_type": "code",
   "execution_count": 64,
   "metadata": {},
   "outputs": [
    {
     "name": "stdout",
     "output_type": "stream",
     "text": [
      "Please enter a group.\n"
     ]
    },
    {
     "data": {
      "text/plain": [
       "False"
      ]
     },
     "execution_count": 64,
     "metadata": {},
     "output_type": "execute_result"
    }
   ],
   "source": [
    "is_user_in_group(child , None)\n",
    "## Returns error message."
   ]
  },
  {
   "attachments": {},
   "cell_type": "markdown",
   "metadata": {},
   "source": [
    "# Explanation 4:\n",
    "### Time Efficiency and Space Efficiency:\n",
    " This program has linear time complexity because there is one loop and N is the number of users and groups in the data. The other algorithms have a constant time complexity of O(1). The dominant term in the time complexity equation is O(n).\n",
    " \n",
    "### Data Structure:\n",
    " I used lists as it was easy to append and search.\n",
    " \n",
    "### Function Efficiency:\n",
    " I used a recursive function to search groups with in groups, making the code more simple\n",
    " and efficient."
   ]
  },
  {
   "attachments": {},
   "cell_type": "markdown",
   "metadata": {},
   "source": [
    "# Problem 5: Blockchain"
   ]
  },
  {
   "cell_type": "code",
   "execution_count": 29,
   "metadata": {},
   "outputs": [],
   "source": [
    "import hashlib\n",
    "\n",
    "def calc_hash( data):\n",
    "      sha = hashlib.sha256()\n",
    "\n",
    "      hash_str = data.encode('utf-8')\n",
    "\n",
    "      sha.update(hash_str)\n",
    "\n",
    "      return sha.hexdigest()"
   ]
  },
  {
   "cell_type": "code",
   "execution_count": 30,
   "metadata": {},
   "outputs": [
    {
     "name": "stdout",
     "output_type": "stream",
     "text": [
      "[<__main__.Block object at 0x112327090>, <__main__.Block object at 0x112351a90>, <__main__.Block object at 0x112325710>, <__main__.Block object at 0x112327d10>, <__main__.Block object at 0x112326ed0>, <__main__.Block object at 0x112326b90>, <__main__.Block object at 0x112326e10>, <__main__.Block object at 0x112327610>, <__main__.Block object at 0x112327290>, <__main__.Block object at 0x112327410>]\n"
     ]
    }
   ],
   "source": [
    "from datetime import datetime\n",
    "import random\n",
    "import string\n",
    "\n",
    "class Block():\n",
    "\n",
    "    def __init__(self,timestamp, data, previous_hash):\n",
    "        ## Makes a linked block.\n",
    "        self.timestamp = timestamp\n",
    "        self.data = data\n",
    "        self.previous_hash = previous_hash\n",
    "        if data == None or data == \"\":\n",
    "            self.hash1 = None\n",
    "        else:   \n",
    "            self.hash1 = calc_hash(self.data)\n",
    "        \n",
    "    def get_time():\n",
    "        ## Gets timestamp.\n",
    "        dt = datetime.now()\n",
    "        ts = datetime.timestamp(dt)\n",
    "        return ts\n",
    "    \n",
    "    def get_data():\n",
    "        ## Makes random data.\n",
    "        length = 5\n",
    "        data = \"\".join(random.choice(string.ascii_lowercase)for _ in range(length))\n",
    "        return data\n",
    "    \n",
    "    def make_previous(hash2):\n",
    "        ## Returns previous_hash.\n",
    "        if hash2 == None:\n",
    "            return 0\n",
    "        else:\n",
    "            previous_hash = hash2\n",
    "        return previous_hash \n",
    "    \n",
    "def make_data(hash2):\n",
    "    timestamp = Block.get_time()\n",
    "    data = Block.get_data()\n",
    "    previous_hash = Block.make_previous(hash2)\n",
    "    return timestamp, data, previous_hash\n",
    "\n",
    "def make_data_same_time(hash2):\n",
    "    data = Block.get_data()\n",
    "    previous_hash = Block.make_previous(hash2)\n",
    "    return data, previous_hash\n",
    "\n",
    "\n",
    "block = []\n",
    "hash2 = 0\n",
    "for x in range(10):\n",
    "    timestamp, data, previous_hash = make_data(hash2)\n",
    "    block.append(Block(timestamp, data, previous_hash))\n",
    "    hash2 = block[x].hash1\n",
    "    \n",
    "    \n",
    "print(block)\n",
    "    \n",
    "## Should print out the block chain objects."
   ]
  },
  {
   "cell_type": "code",
   "execution_count": 31,
   "metadata": {},
   "outputs": [
    {
     "name": "stdout",
     "output_type": "stream",
     "text": [
      "1707425420.98461\n",
      "1707425420.984705\n",
      "1707425420.984725\n",
      "1707425420.984736\n",
      "1707425420.984745\n",
      "1707425420.984754\n",
      "1707425420.984763\n",
      "1707425420.984773\n",
      "1707425420.984787\n",
      "1707425420.984797\n"
     ]
    }
   ],
   "source": [
    "\n",
    "## Add your own test cases: include at least three test cases\n",
    "## and two of them must include edge cases, such as null, empty or very large values\n",
    "\n",
    "## Test Case 1\n",
    "for x in range(10):\n",
    "    print(block[x].timestamp)\n",
    "\n",
    "## Returns the timestamp for each block in the chain."
   ]
  },
  {
   "cell_type": "code",
   "execution_count": 32,
   "metadata": {},
   "outputs": [
    {
     "name": "stdout",
     "output_type": "stream",
     "text": [
      "0\n",
      "80b05eaac80674b90a8b3e7dbaeaae5ff58da0c9d6591d7f3d90fd2a6588202c\n",
      "dda00536c6c041ebe2012d7fa76593937054274aa5d32cdd629f1bcc39811757\n",
      "ae08990afebea1e5f415ef20f6ac36fb230151714d6877d33366968df93671da\n",
      "b9ef6a5bf37a3cba4429c4330343fa7b1de8b35a4b076a4f9e3d27781921b251\n",
      "f95b58c28666f525114f206cba14551b356fe60d3391e35c874468bc8527b3e4\n",
      "c7a88bbeb8bffb5441bebcc6bc48abe7f62faaabe720a9a2e51f83453090b5d5\n",
      "b223eae5a47d60c7aabd83918d896d5b6d0cb219a31ded92a42bd879ea3988ae\n",
      "3372724347739bb5d012096d925793b030ad50558d7ce8f125a74ceb389d4193\n",
      "6c42f27d650506400382987f8420f91d426bb6a277ee332e875b9e799a3865ca\n"
     ]
    }
   ],
   "source": [
    "## Test Case 2\n",
    "for x in range(10):\n",
    "    print(block[x].previous_hash)\n",
    "    \n",
    "## Returns the previous_hash for each block in the chain."
   ]
  },
  {
   "cell_type": "code",
   "execution_count": 33,
   "metadata": {},
   "outputs": [
    {
     "name": "stdout",
     "output_type": "stream",
     "text": [
      "80b05eaac80674b90a8b3e7dbaeaae5ff58da0c9d6591d7f3d90fd2a6588202c\n",
      "dda00536c6c041ebe2012d7fa76593937054274aa5d32cdd629f1bcc39811757\n",
      "ae08990afebea1e5f415ef20f6ac36fb230151714d6877d33366968df93671da\n",
      "b9ef6a5bf37a3cba4429c4330343fa7b1de8b35a4b076a4f9e3d27781921b251\n",
      "f95b58c28666f525114f206cba14551b356fe60d3391e35c874468bc8527b3e4\n",
      "c7a88bbeb8bffb5441bebcc6bc48abe7f62faaabe720a9a2e51f83453090b5d5\n",
      "b223eae5a47d60c7aabd83918d896d5b6d0cb219a31ded92a42bd879ea3988ae\n",
      "3372724347739bb5d012096d925793b030ad50558d7ce8f125a74ceb389d4193\n",
      "6c42f27d650506400382987f8420f91d426bb6a277ee332e875b9e799a3865ca\n",
      "3f9cb7c0c966859ba859db6e7632e20fdf9100ec7bbb7b35be7289a255055dc0\n"
     ]
    }
   ],
   "source": [
    "for x in range(10):\n",
    "    print(block[x].hash1, end='\\n')\n",
    "## Returns the hash for each block in the chain."
   ]
  },
  {
   "cell_type": "code",
   "execution_count": 34,
   "metadata": {},
   "outputs": [
    {
     "name": "stdout",
     "output_type": "stream",
     "text": [
      "<__main__.Block object at 0x112314990>\n"
     ]
    }
   ],
   "source": [
    "x = (Block(None, None, None))\n",
    "print(x)\n",
    "## Prints empty block."
   ]
  },
  {
   "cell_type": "code",
   "execution_count": 35,
   "metadata": {},
   "outputs": [
    {
     "name": "stdout",
     "output_type": "stream",
     "text": [
      "None\n"
     ]
    }
   ],
   "source": [
    "print(x.previous_hash)\n",
    "## Prints None"
   ]
  },
  {
   "cell_type": "code",
   "execution_count": 36,
   "metadata": {},
   "outputs": [
    {
     "name": "stdout",
     "output_type": "stream",
     "text": [
      "1707425423.968811\n",
      "1707425423.968811\n",
      "1707425423.968811\n",
      "1707425423.968811\n",
      "1707425423.968811\n",
      "1707425423.968811\n",
      "1707425423.968811\n",
      "1707425423.968811\n",
      "1707425423.968811\n",
      "1707425423.968811\n"
     ]
    }
   ],
   "source": [
    "block2 = []\n",
    "hash2 = 0\n",
    "\n",
    "timestamp, data, previous_hash = make_data(hash2)\n",
    "block2.append(Block(timestamp, data, previous_hash))\n",
    "same_time = timestamp\n",
    "hash2 = block2[0].hash1\n",
    "\n",
    "for x in range(10):\n",
    "    data, previous_hash = make_data_same_time(hash2)\n",
    "    block2.append(Block(same_time, data, previous_hash))\n",
    "    hash2 = block[x].hash1\n",
    "\n",
    "\n",
    "\n",
    "    \n",
    "for x in range(10):\n",
    "    print(block2[x].timestamp)\n",
    "## Returns the same timestamp for each block."
   ]
  },
  {
   "attachments": {},
   "cell_type": "markdown",
   "metadata": {},
   "source": [
    "# Explanation 5:\n",
    "### Time Efficiency and Space Efficiency:\n",
    " This program has linear time complexity because there is one loop, with the other functions having constant time complexity. The time efficiency is O(N) where N is\n",
    " the number of blocks created.\n",
    " \n",
    "### Data Structure:\n",
    " I used linked lists as each block had information on the previous block.\n",
    " \n",
    "### Function Efficiency:\n",
    " Block chains or linked lists are simple to create, making the code more simple\n",
    " and efficient."
   ]
  },
  {
   "attachments": {},
   "cell_type": "markdown",
   "metadata": {},
   "source": [
    "# Problem 6: Union and Intersection\n"
   ]
  },
  {
   "cell_type": "code",
   "execution_count": 37,
   "metadata": {},
   "outputs": [],
   "source": [
    "class Node:\n",
    "    def __init__(self, value):\n",
    "        self.value = value\n",
    "        self.next = None\n",
    "\n",
    "    def __repr__(self):\n",
    "        return str(self.value)\n",
    "\n",
    "\n",
    "class LinkedList:\n",
    "    def __init__(self):\n",
    "        self.head = None\n",
    "\n",
    "    def __str__(self):\n",
    "        cur_head = self.head\n",
    "        out_string = \"\"\n",
    "        while cur_head:\n",
    "            out_string += str(cur_head.value) + \" -> \"\n",
    "            cur_head = cur_head.next\n",
    "        return out_string\n",
    "\n",
    "\n",
    "    def append(self, value):\n",
    "\n",
    "        if self.head is None:\n",
    "            self.head = Node(value)\n",
    "            return\n",
    "\n",
    "        node = self.head\n",
    "        while node.next:\n",
    "            node = node.next\n",
    "\n",
    "        node.next = Node(value)\n",
    "\n",
    "    def size(self):\n",
    "        size = 0\n",
    "        node = self.head\n",
    "        while node:\n",
    "            size += 1\n",
    "            node = node.next\n",
    "\n",
    "        return size\n",
    "\n",
    "def union(llist_1, llist_2):\n",
    "    ## Combines lists.\n",
    "    size = llist_1.size()\n",
    "    linked_list_3 = LinkedList()\n",
    "    \n",
    "    for x in range(size):\n",
    "        ## iterates through list 1. \n",
    "        node = llist_1.head\n",
    "        linked_list_3.append(node)\n",
    "        llist_1.head = node.next\n",
    "        ## links lists together.\n",
    "        if x == size:\n",
    "            llist_2.head = node.next\n",
    "            \n",
    "    size = llist_2.size()\n",
    "    \n",
    "    for x in range(size):\n",
    "         ## iterates through list 2. \n",
    "        node = llist_2.head\n",
    "        linked_list_3.append(node)\n",
    "        llist_2.head = node.next\n",
    "        \n",
    "    return linked_list_3\n",
    "\n"
   ]
  },
  {
   "cell_type": "code",
   "execution_count": 38,
   "metadata": {},
   "outputs": [
    {
     "name": "stdout",
     "output_type": "stream",
     "text": [
      "3 -> 2 -> 4 -> 35 -> 6 -> 65 -> 6 -> 4 -> 3 -> 21 -> 6 -> 32 -> 4 -> 9 -> 6 -> 1 -> 11 -> 21 -> 1 -> \n",
      "4 -> 6 -> 6 -> 21 -> \n",
      "3 -> 2 -> 4 -> 35 -> 6 -> 65 -> 6 -> 4 -> 3 -> 23 -> 1 -> 7 -> 8 -> 9 -> 11 -> 21 -> 1 -> \n",
      "\n"
     ]
    }
   ],
   "source": [
    "def intersection(llist_1, llist_2):\n",
    "    ## Finds the common elements in 2 linked lists.\n",
    "    if llist_1.size() == 0  or llist_2.size() == 0:\n",
    "        return None\n",
    "    size1 = llist_1.size()\n",
    "    size2 = llist_2.size()\n",
    "    linked_list_4 = LinkedList()\n",
    "    popped = list() \n",
    "    next1 = None\n",
    "    \n",
    "    if size1 >= size2:\n",
    "        size = size1\n",
    "        stop = size - size2\n",
    "    else:\n",
    "        size = size2\n",
    "        stop = size - size1\n",
    "    \n",
    "\n",
    "    for x in range(size):\n",
    "        node1 = llist_1.head\n",
    "        node2 = llist_2.head\n",
    "        v1 = node1.value\n",
    "        v2 = node2.value\n",
    "\n",
    "        if v1 != v2 and v1 not in popped:\n",
    "            popped.append(v2)\n",
    "            if x + stop + 1 < size:\n",
    "                llist_2.head = node2.next\n",
    "                llist_1.head = node1.next\n",
    "            \n",
    "            elif x + stop + 1 == size:\n",
    "                if x + 1 == size2:\n",
    "                    llist_2.head = node2\n",
    "                    llist_1.head = node1.next\n",
    "                elif x + 1 == size1:\n",
    "                    llist_2.head = node2.next \n",
    "                    llist_1.head = node1\n",
    "            \n",
    "        elif v1 == v2 or v1 in popped:\n",
    "            new = node1.value\n",
    "            new = Node(new)\n",
    "            linked_list_4.append(new)\n",
    "            new.next = next1\n",
    "            next1 = new\n",
    "            \n",
    "            if x + stop + 1 < size:\n",
    "                llist_2.head = node2.next\n",
    "                llist_1.head = node1.next\n",
    "\n",
    "            elif x + stop + 1 == size:\n",
    "                if x + 1 == size2:\n",
    "                    llist_2.head = node2\n",
    "                    llist_1.head = node1.next\n",
    "                elif x + 1 == size1:\n",
    "                    llist_2.head = node2.next \n",
    "                    llist_1.head = node1\n",
    "     \n",
    "    if linked_list_4.size == 0:\n",
    "        return None\n",
    "\n",
    "    return linked_list_4\n",
    "\n",
    "## Test case 1\n",
    "\n",
    "linked_list_1 = LinkedList()\n",
    "linked_list_2 = LinkedList()\n",
    "linked_list_3 = LinkedList()\n",
    "linked_list_4 = LinkedList()\n",
    "\n",
    "element_1 = [3,2,4,35,6,65,6,4,3,21]\n",
    "element_2 = [6,32,4,9,6,1,11,21,1]\n",
    "\n",
    "for i in element_1:\n",
    "    linked_list_1.append(i)\n",
    "    linked_list_3.append(i)\n",
    "\n",
    "for i in element_2:\n",
    "    linked_list_2.append(i)\n",
    "    linked_list_4.append(i)\n",
    "\n",
    "print (union(linked_list_1,linked_list_2))\n",
    "print (intersection(linked_list_3,linked_list_4))\n",
    "\n",
    "## Test case 2\n",
    "\n",
    "linked_list_5 = LinkedList()\n",
    "linked_list_6 = LinkedList()\n",
    "linked_list_7 = LinkedList()\n",
    "linked_list_8 = LinkedList()\n",
    "\n",
    "element_1 = [3,2,4,35,6,65,6,4,3,23]\n",
    "element_2 = [1,7,8,9,11,21,1]\n",
    "\n",
    "for i in element_1:\n",
    "    linked_list_5.append(i)\n",
    "    linked_list_6.append(i)\n",
    "\n",
    "for i in element_2:\n",
    "    linked_list_7.append(i)\n",
    "    linked_list_8.append(i)\n",
    "    \n",
    "\n",
    "print (union(linked_list_5,linked_list_7))\n",
    "print (intersection(linked_list_6,linked_list_8))\n",
    "\n"
   ]
  },
  {
   "cell_type": "code",
   "execution_count": 39,
   "metadata": {},
   "outputs": [
    {
     "name": "stdout",
     "output_type": "stream",
     "text": [
      "6 -> 32 -> 4 -> 9 -> 6 -> 1 -> 11 -> 21 -> 1 -> \n",
      "None\n"
     ]
    }
   ],
   "source": [
    "## Add your own test cases: include at least three test cases\n",
    "## and two of them must include edge cases, such as null, empty or very large values\n",
    "\n",
    "## Test Case 1\n",
    "linked_list_1 = LinkedList()\n",
    "linked_list_2 = LinkedList()\n",
    "linked_list_3 = LinkedList()\n",
    "linked_list_4 = LinkedList()\n",
    "\n",
    "element_1 = []\n",
    "element_2 = [6,32,4,9,6,1,11,21,1]\n",
    "\n",
    "for i in element_1:\n",
    "    linked_list_1.append(i)\n",
    "    linked_list_3.append(i)\n",
    "\n",
    "for i in element_2:\n",
    "    linked_list_2.append(i)\n",
    "    linked_list_4.append(i)\n",
    "\n",
    "print (union(linked_list_1,linked_list_2))\n",
    "print (intersection(linked_list_3,linked_list_4))\n",
    "\n",
    "## Returns the second list."
   ]
  },
  {
   "cell_type": "code",
   "execution_count": 40,
   "metadata": {},
   "outputs": [
    {
     "name": "stdout",
     "output_type": "stream",
     "text": [
      "1 -> 44 -> 7 -> 56 -> 89 -> 34 -> 6 -> 2 -> 6 -> 4 -> 667 -> 8 -> 5 -> 3 -> 6 -> 4 -> 667 -> 23 -> 56 -> 7 -> 56 -> 89 -> \n",
      "6 -> 6 -> 4 -> 667 -> \n"
     ]
    }
   ],
   "source": [
    "## Test Case 2\n",
    "linked_list_1 = LinkedList()\n",
    "linked_list_2 = LinkedList()\n",
    "linked_list_3 = LinkedList()\n",
    "linked_list_4 = LinkedList()\n",
    "\n",
    "element_1 = [1,44,7,56,89,34,6,2,6,4,667]\n",
    "element_2 = [8,5,3,6,4,667,23,56,7,56,89]\n",
    "\n",
    "for i in element_1:\n",
    "    linked_list_1.append(i)\n",
    "    linked_list_3.append(i)\n",
    "\n",
    "for i in element_2:\n",
    "    linked_list_2.append(i)\n",
    "    linked_list_4.append(i)\n",
    "\n",
    "print (union(linked_list_1,linked_list_2))\n",
    "print (intersection(linked_list_3,linked_list_4))\n",
    "\n",
    "## Returns the lists combined, and then the common elements."
   ]
  },
  {
   "cell_type": "code",
   "execution_count": 41,
   "metadata": {},
   "outputs": [
    {
     "name": "stdout",
     "output_type": "stream",
     "text": [
      "7 -> \n",
      "None\n"
     ]
    }
   ],
   "source": [
    "# Test Case 3\n",
    "linked_list_1 = LinkedList()\n",
    "linked_list_2 = LinkedList()\n",
    "linked_list_3 = LinkedList()\n",
    "linked_list_4 = LinkedList()\n",
    "\n",
    "element_1 = [7]\n",
    "element_2 = []\n",
    "\n",
    "for i in element_1:\n",
    "    linked_list_1.append(i)\n",
    "    linked_list_3.append(i)\n",
    "\n",
    "for i in element_2:\n",
    "    linked_list_2.append(i)\n",
    "    linked_list_4.append(i)\n",
    "\n",
    "print (union(linked_list_1,linked_list_2))\n",
    "print (intersection(linked_list_3,linked_list_4))\n",
    "## Returns 7."
   ]
  },
  {
   "cell_type": "code",
   "execution_count": 42,
   "metadata": {},
   "outputs": [
    {
     "name": "stdout",
     "output_type": "stream",
     "text": [
      "\n",
      "None\n"
     ]
    }
   ],
   "source": [
    "# Test Case 3\n",
    "linked_list_1 = LinkedList()\n",
    "linked_list_2 = LinkedList()\n",
    "linked_list_3 = LinkedList()\n",
    "linked_list_4 = LinkedList()\n",
    "\n",
    "element_1 = []\n",
    "element_2 = []\n",
    "\n",
    "for i in element_1:\n",
    "    linked_list_1.append(i)\n",
    "    linked_list_3.append(i)\n",
    "\n",
    "for i in element_2:\n",
    "    linked_list_2.append(i)\n",
    "    linked_list_4.append(i)\n",
    "\n",
    "print (union(linked_list_1,linked_list_2))\n",
    "print (intersection(linked_list_3,linked_list_4))\n",
    "## Returns None"
   ]
  },
  {
   "attachments": {},
   "cell_type": "markdown",
   "metadata": {},
   "source": [
    "# Explanation 6:\n",
    "### Time Efficiency and Space Efficiency:\n",
    "The dominant terms in the time complexity of these functions consist of three loops that run N, M, P number or times. This creates a linear time complexity of O(N + M + P).\n",
    "\n",
    "### Data Structure:\n",
    "I used linked lists as each entry had information on the next.\n",
    " \n",
    "### Function Efficiency:\n",
    "Linked lists are simple to create, making the code more efficient.\n"
   ]
  },
  {
   "cell_type": "code",
   "execution_count": null,
   "metadata": {},
   "outputs": [],
   "source": []
  },
  {
   "cell_type": "code",
   "execution_count": null,
   "metadata": {},
   "outputs": [],
   "source": []
  },
  {
   "cell_type": "code",
   "execution_count": null,
   "metadata": {},
   "outputs": [],
   "source": []
  },
  {
   "cell_type": "code",
   "execution_count": null,
   "metadata": {},
   "outputs": [],
   "source": []
  }
 ],
 "metadata": {
  "kernelspec": {
   "display_name": "Python 3",
   "language": "python",
   "name": "python3"
  },
  "language_info": {
   "codemirror_mode": {
    "name": "ipython",
    "version": 3
   },
   "file_extension": ".py",
   "mimetype": "text/x-python",
   "name": "python",
   "nbconvert_exporter": "python",
   "pygments_lexer": "ipython3",
   "version": "3.11.3"
  }
 },
 "nbformat": 4,
 "nbformat_minor": 2
}
